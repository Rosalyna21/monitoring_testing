{
 "cells": [
  {
   "cell_type": "code",
   "execution_count": 1,
   "metadata": {},
   "outputs": [],
   "source": [
    "# !pip install arize\n"
   ]
  },
  {
   "cell_type": "code",
   "execution_count": 2,
   "metadata": {},
   "outputs": [],
   "source": [
    "# té lécharger des exemple de données via SDK\n",
    "from arize.pandas.logger import Client, Schema\n",
    "from arize.utils.types import ModelTypes, Environments, Schema, Metrics\n",
    "\n",
    "API_KEY = 'YOUR API KEY'\n",
    "SPACE_KEY = 'YOUR SPACE KEY'\n",
    "arize_client = Client(space_key=SPACE_KEY, api_key=API_KEY)"
   ]
  },
  {
   "cell_type": "code",
   "execution_count": 3,
   "metadata": {},
   "outputs": [],
   "source": [
    "#téléchargement d'un ensemble de données\n",
    "from sklearn.datasets import load_breast_cancer\n",
    "breast_cancer_dataset = load_breast_cancer()"
   ]
  },
  {
   "cell_type": "code",
   "execution_count": 4,
   "metadata": {},
   "outputs": [],
   "source": [
    "#Extraire les fonctionnalités, prévisions et les données réelles\n",
    "breast_cancer_features = breast_cancer_dataset['data'] # feature data\n",
    "breast_cancer_feature_names = breast_cancer_dataset['feature_names'] # feature names\n",
    "breast_cancer_targets = breast_cancer_dataset['target'] # actual data\n",
    "breast_cancer_target_names = breast_cancer_dataset['target_names'] # actual labels"
   ]
  },
  {
   "cell_type": "code",
   "execution_count": 5,
   "metadata": {},
   "outputs": [],
   "source": [
    "target_name_transcription = [] # this will become our list of actuals\n",
    "\n",
    "for i in breast_cancer_targets: \n",
    "  target_name_transcription.append(breast_cancer_target_names[i])"
   ]
  },
  {
   "cell_type": "code",
   "execution_count": 6,
   "metadata": {},
   "outputs": [],
   "source": [
    "import pandas as pd\n",
    "\n",
    "df = pd.DataFrame(breast_cancer_features, columns=breast_cancer_feature_names)\n",
    "df['actual_label'] = target_name_transcription\n",
    "df['prediction_label'] = target_name_transcription\n",
    "\n",
    "# this is optional, but makes this example more interesting in the platform\n",
    "df['prediction_label'] = df['prediction_label'].iloc[::-1].reset_index(drop=True) "
   ]
  },
  {
   "cell_type": "code",
   "execution_count": 7,
   "metadata": {},
   "outputs": [],
   "source": [
    "#enregistrer les données sur Arize\n",
    "schema = Schema(\n",
    "    actual_label_column_name=\"actual_label\",\n",
    "    prediction_label_column_name=\"prediction_label\",\n",
    "    feature_column_names=[\n",
    "       'mean radius', 'mean texture', 'mean perimeter', 'mean area',\n",
    "       'mean smoothness', 'mean compactness', 'mean concavity',\n",
    "       'mean concave points', 'mean symmetry', 'mean fractal dimension',\n",
    "       'radius error', 'texture error', 'perimeter error', 'area error',\n",
    "       'smoothness error', 'compactness error', 'concavity error',\n",
    "       'concave points error', 'symmetry error',\n",
    "       'fractal dimension error', 'worst radius', 'worst texture',\n",
    "       'worst perimeter', 'worst area', 'worst smoothness',\n",
    "       'worst compactness', 'worst concavity', 'worst concave points',\n",
    "       'worst symmetry', 'worst fractal dimension'\n",
    "       ]\n",
    ")"
   ]
  },
  {
   "cell_type": "code",
   "execution_count": 8,
   "metadata": {},
   "outputs": [
    {
     "name": "stdout",
     "output_type": "stream",
     "text": [
      "\u001b[33m  arize.utils.logging | WARNING | Prediction ID is not specified. Arize generates UUIDs for the model's predictions if not provided by the user. Please note, you won't be able to send delayed data for joining if a Prediction ID is not provided.\u001b[0m\n"
     ]
    }
   ],
   "source": [
    "# enregistrement du modele\n",
    "response = arize_client.log(\n",
    "    dataframe=df,\n",
    "    schema=schema,\n",
    "    model_id='breast_cancer_dataset', \n",
    "    model_version='v1',\n",
    "    model_type=ModelTypes.BINARY_CLASSIFICATION,\n",
    "    metrics_validation=[Metrics.CLASSIFICATION], \n",
    "    environment=Environments.PRODUCTION\n",
    ") "
   ]
  },
  {
   "cell_type": "markdown",
   "metadata": {},
   "source": [
    "https://app.arize.com/organizations/QWNjb3VudE9yZ2FuaXphdGlvbjo1NDcz/spaces/U3BhY2U6NTc3OA==/dashboards/RGFzaGJvYXJkOjEwODY1?granularity=day&start=1699916400000&end=1702594799999"
   ]
  },
  {
   "cell_type": "markdown",
   "metadata": {},
   "source": []
  }
 ],
 "metadata": {
  "kernelspec": {
   "display_name": "workshop_unitest",
   "language": "python",
   "name": "python3"
  },
  "language_info": {
   "codemirror_mode": {
    "name": "ipython",
    "version": 3
   },
   "file_extension": ".py",
   "mimetype": "text/x-python",
   "name": "python",
   "nbconvert_exporter": "python",
   "pygments_lexer": "ipython3",
   "version": "3.10.13"
  }
 },
 "nbformat": 4,
 "nbformat_minor": 2
}
