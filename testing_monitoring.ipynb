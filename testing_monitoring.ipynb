{
 "cells": [
  {
   "cell_type": "code",
   "execution_count": 1,
   "metadata": {},
   "outputs": [
    {
     "name": "stdout",
     "output_type": "stream",
     "text": [
      "Collecting arize\n",
      "  Downloading arize-7.8.0-py2.py3-none-any.whl.metadata (13 kB)\n",
      "Collecting requests-futures==1.0.0 (from arize)\n",
      "  Downloading requests_futures-1.0.0-py2.py3-none-any.whl (7.4 kB)\n",
      "Collecting googleapis-common-protos~=1.51 (from arize)\n",
      "  Downloading googleapis_common_protos-1.62.0-py2.py3-none-any.whl.metadata (1.5 kB)\n",
      "Requirement already satisfied: protobuf<5,>=3.12 in c:\\users\\rose des vents\\anaconda3\\envs\\workshop_unitest\\lib\\site-packages (from arize) (4.25.1)\n",
      "Requirement already satisfied: pandas<3,>=0.25.3 in c:\\users\\rose des vents\\anaconda3\\envs\\workshop_unitest\\lib\\site-packages (from arize) (2.1.4)\n",
      "Requirement already satisfied: pyarrow>=0.15.0 in c:\\users\\rose des vents\\anaconda3\\envs\\workshop_unitest\\lib\\site-packages (from arize) (14.0.1)\n",
      "Collecting tqdm<5,>=4.60.0 (from arize)\n",
      "  Downloading tqdm-4.66.1-py3-none-any.whl.metadata (57 kB)\n",
      "     ---------------------------------------- 0.0/57.6 kB ? eta -:--:--\n",
      "     ------- -------------------------------- 10.2/57.6 kB ? eta -:--:--\n",
      "     ---------------------------------------- 57.6/57.6 kB 1.0 MB/s eta 0:00:00\n",
      "Requirement already satisfied: requests>=1.2.0 in c:\\users\\rose des vents\\anaconda3\\envs\\workshop_unitest\\lib\\site-packages (from requests-futures==1.0.0->arize) (2.31.0)\n",
      "Requirement already satisfied: numpy<2,>=1.22.4 in c:\\users\\rose des vents\\anaconda3\\envs\\workshop_unitest\\lib\\site-packages (from pandas<3,>=0.25.3->arize) (1.26.2)\n",
      "Requirement already satisfied: python-dateutil>=2.8.2 in c:\\users\\rose des vents\\anaconda3\\envs\\workshop_unitest\\lib\\site-packages (from pandas<3,>=0.25.3->arize) (2.8.2)\n",
      "Requirement already satisfied: pytz>=2020.1 in c:\\users\\rose des vents\\anaconda3\\envs\\workshop_unitest\\lib\\site-packages (from pandas<3,>=0.25.3->arize) (2023.3.post1)\n",
      "Requirement already satisfied: tzdata>=2022.1 in c:\\users\\rose des vents\\anaconda3\\envs\\workshop_unitest\\lib\\site-packages (from pandas<3,>=0.25.3->arize) (2023.3)\n",
      "Requirement already satisfied: colorama in c:\\users\\rose des vents\\anaconda3\\envs\\workshop_unitest\\lib\\site-packages (from tqdm<5,>=4.60.0->arize) (0.4.6)\n",
      "Requirement already satisfied: six>=1.5 in c:\\users\\rose des vents\\anaconda3\\envs\\workshop_unitest\\lib\\site-packages (from python-dateutil>=2.8.2->pandas<3,>=0.25.3->arize) (1.16.0)\n",
      "Requirement already satisfied: charset-normalizer<4,>=2 in c:\\users\\rose des vents\\anaconda3\\envs\\workshop_unitest\\lib\\site-packages (from requests>=1.2.0->requests-futures==1.0.0->arize) (3.3.2)\n",
      "Requirement already satisfied: idna<4,>=2.5 in c:\\users\\rose des vents\\anaconda3\\envs\\workshop_unitest\\lib\\site-packages (from requests>=1.2.0->requests-futures==1.0.0->arize) (3.6)\n",
      "Requirement already satisfied: urllib3<3,>=1.21.1 in c:\\users\\rose des vents\\anaconda3\\envs\\workshop_unitest\\lib\\site-packages (from requests>=1.2.0->requests-futures==1.0.0->arize) (2.1.0)\n",
      "Requirement already satisfied: certifi>=2017.4.17 in c:\\users\\rose des vents\\anaconda3\\envs\\workshop_unitest\\lib\\site-packages (from requests>=1.2.0->requests-futures==1.0.0->arize) (2023.11.17)\n",
      "Downloading arize-7.8.0-py2.py3-none-any.whl (96 kB)\n",
      "   ---------------------------------------- 0.0/96.9 kB ? eta -:--:--\n",
      "   ----------------------------- ---------- 71.7/96.9 kB 1.3 MB/s eta 0:00:01\n",
      "   ---------------------------------------- 96.9/96.9 kB 1.1 MB/s eta 0:00:00\n",
      "Downloading googleapis_common_protos-1.62.0-py2.py3-none-any.whl (228 kB)\n",
      "   ---------------------------------------- 0.0/228.7 kB ? eta -:--:--\n",
      "   ---------------------------------- ----- 194.6/228.7 kB 3.9 MB/s eta 0:00:01\n",
      "   ---------------------------------------- 228.7/228.7 kB 3.5 MB/s eta 0:00:00\n",
      "Downloading tqdm-4.66.1-py3-none-any.whl (78 kB)\n",
      "   ---------------------------------------- 0.0/78.3 kB ? eta -:--:--\n",
      "   ---------------------------------------- 78.3/78.3 kB 2.2 MB/s eta 0:00:00\n",
      "Installing collected packages: tqdm, googleapis-common-protos, requests-futures, arize\n",
      "Successfully installed arize-7.8.0 googleapis-common-protos-1.62.0 requests-futures-1.0.0 tqdm-4.66.1\n"
     ]
    }
   ],
   "source": [
    "!pip install arize\n"
   ]
  },
  {
   "cell_type": "code",
   "execution_count": 2,
   "metadata": {},
   "outputs": [],
   "source": [
    "# té lécharger des exemple de données via SDK\n",
    "from arize.pandas.logger import Client, Schema\n",
    "from arize.utils.types import ModelTypes, Environments, Schema, Metrics\n",
    "\n",
    "API_KEY = 'YOUR API KEY'\n",
    "SPACE_KEY = 'YOUR SPACE KEY'\n",
    "arize_client = Client(space_key=SPACE_KEY, api_key=API_KEY)"
   ]
  },
  {
   "cell_type": "code",
   "execution_count": 3,
   "metadata": {},
   "outputs": [],
   "source": [
    "#téléchargement d'un ensemble de données\n",
    "from sklearn.datasets import load_breast_cancer\n",
    "breast_cancer_dataset = load_breast_cancer()"
   ]
  },
  {
   "cell_type": "code",
   "execution_count": 4,
   "metadata": {},
   "outputs": [],
   "source": [
    "#Extraire les fonctionnalités, prévisions et les données réelles\n",
    "breast_cancer_features = breast_cancer_dataset['data'] # feature data\n",
    "breast_cancer_feature_names = breast_cancer_dataset['feature_names'] # feature names\n",
    "breast_cancer_targets = breast_cancer_dataset['target'] # actual data\n",
    "breast_cancer_target_names = breast_cancer_dataset['target_names'] # actual labels"
   ]
  },
  {
   "cell_type": "code",
   "execution_count": 5,
   "metadata": {},
   "outputs": [],
   "source": [
    "target_name_transcription = [] # this will become our list of actuals\n",
    "\n",
    "for i in breast_cancer_targets: \n",
    "  target_name_transcription.append(breast_cancer_target_names[i])"
   ]
  },
  {
   "cell_type": "code",
   "execution_count": 6,
   "metadata": {},
   "outputs": [],
   "source": [
    "import pandas as pd\n",
    "\n",
    "df = pd.DataFrame(breast_cancer_features, columns=breast_cancer_feature_names)\n",
    "df['actual_label'] = target_name_transcription\n",
    "df['prediction_label'] = target_name_transcription\n",
    "\n",
    "# this is optional, but makes this example more interesting in the platform\n",
    "df['prediction_label'] = df['prediction_label'].iloc[::-1].reset_index(drop=True) "
   ]
  },
  {
   "cell_type": "code",
   "execution_count": 7,
   "metadata": {},
   "outputs": [],
   "source": [
    "#enregistrer les données sur Arize\n",
    "schema = Schema(\n",
    "    actual_label_column_name=\"actual_label\",\n",
    "    prediction_label_column_name=\"prediction_label\",\n",
    "    feature_column_names=[\n",
    "       'mean radius', 'mean texture', 'mean perimeter', 'mean area',\n",
    "       'mean smoothness', 'mean compactness', 'mean concavity',\n",
    "       'mean concave points', 'mean symmetry', 'mean fractal dimension',\n",
    "       'radius error', 'texture error', 'perimeter error', 'area error',\n",
    "       'smoothness error', 'compactness error', 'concavity error',\n",
    "       'concave points error', 'symmetry error',\n",
    "       'fractal dimension error', 'worst radius', 'worst texture',\n",
    "       'worst perimeter', 'worst area', 'worst smoothness',\n",
    "       'worst compactness', 'worst concavity', 'worst concave points',\n",
    "       'worst symmetry', 'worst fractal dimension'\n",
    "       ]\n",
    ")"
   ]
  },
  {
   "cell_type": "code",
   "execution_count": 8,
   "metadata": {},
   "outputs": [
    {
     "name": "stdout",
     "output_type": "stream",
     "text": [
      "\u001b[33m  arize.utils.logging | WARNING | Prediction ID is not specified. Arize generates UUIDs for the model's predictions if not provided by the user. Please note, you won't be able to send delayed data for joining if a Prediction ID is not provided.\u001b[0m\n"
     ]
    }
   ],
   "source": [
    "# enregistrement du modele\n",
    "response = arize_client.log(\n",
    "    dataframe=df,\n",
    "    schema=schema,\n",
    "    model_id='breast_cancer_dataset', \n",
    "    model_version='v1',\n",
    "    model_type=ModelTypes.BINARY_CLASSIFICATION,\n",
    "    metrics_validation=[Metrics.CLASSIFICATION], \n",
    "    environment=Environments.PRODUCTION\n",
    ") "
   ]
  },
  {
   "cell_type": "markdown",
   "metadata": {},
   "source": [
    "https://app.arize.com/organizations/QWNjb3VudE9yZ2FuaXphdGlvbjo1NDcz/spaces/U3BhY2U6NTc3OA==/dashboards/RGFzaGJvYXJkOjEwODY1?granularity=day&start=1699916400000&end=1702594799999"
   ]
  },
  {
   "cell_type": "markdown",
   "metadata": {},
   "source": []
  }
 ],
 "metadata": {
  "kernelspec": {
   "display_name": "workshop_unitest",
   "language": "python",
   "name": "python3"
  },
  "language_info": {
   "codemirror_mode": {
    "name": "ipython",
    "version": 3
   },
   "file_extension": ".py",
   "mimetype": "text/x-python",
   "name": "python",
   "nbconvert_exporter": "python",
   "pygments_lexer": "ipython3",
   "version": "3.10.13"
  }
 },
 "nbformat": 4,
 "nbformat_minor": 2
}
